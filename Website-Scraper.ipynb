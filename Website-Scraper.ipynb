{
 "cells": [
  {
   "cell_type": "code",
   "execution_count": 18,
   "metadata": {
    "scrolled": false
   },
   "outputs": [
    {
     "name": "stdout",
     "output_type": "stream",
     "text": [
      "[<a class=\"navbar-brand\" href=\"/\"><svg height=\"38.798721\" id=\"svg54\" inkscape:version=\"0.92.2 5c3e80d, 2017-08-06\" sodipodi:docname=\"pyatl-peach-python.svg\" version=\"1.1\" viewbox=\"0 0 7.9373901 10.265231\" width=\"29.999998\" xmlns=\"http://www.w3.org/2000/svg\" xmlns:cc=\"http://creativecommons.org/ns#\" xmlns:dc=\"http://purl.org/dc/elements/1.1/\" xmlns:inkscape=\"http://www.inkscape.org/namespaces/inkscape\" xmlns:rdf=\"http://www.w3.org/1999/02/22-rdf-syntax-ns#\" xmlns:sodipodi=\"http://sodipodi.sourceforge.net/DTD/sodipodi-0.dtd\" xmlns:svg=\"http://www.w3.org/2000/svg\">\n",
      "<sodipodi:namedview bordercolor=\"#666666\" borderopacity=\"1\" gridtolerance=\"10\" guidetolerance=\"10\" id=\"namedview56\" inkscape:current-layer=\"g3816\" inkscape:cx=\"-16.042155\" inkscape:cy=\"10.110381\" inkscape:pageopacity=\"0\" inkscape:pageshadow=\"2\" inkscape:window-height=\"746\" inkscape:window-maximized=\"0\" inkscape:window-width=\"1322\" inkscape:window-x=\"0\" inkscape:window-y=\"0\" inkscape:zoom=\"5.6568542\" objecttolerance=\"10\" pagecolor=\"#ffffff\" showgrid=\"false\"></sodipodi:namedview>\n",
      "<defs id=\"defs12\">\n",
      "<lineargradient gradientunits=\"userSpaceOnUse\" id=\"linearGradient2249-4\" x1=\"72.578003\" x2=\"19.493\" y1=\"74.007004\" y2=\"13.807\">\n",
      "<stop id=\"stop2\" offset=\"0\" stop-color=\"#eb6e64\"></stop>\n",
      "<stop id=\"stop4\" offset=\"1\" stop-color=\"#eb6e64\" stop-opacity=\"0\"></stop>\n",
      "</lineargradient>\n",
      "<lineargradient gradientunits=\"userSpaceOnUse\" id=\"linearGradient2251-3\" x1=\"34.291\" x2=\"61.104\" y1=\"31.648001\" y2=\"92.898003\">\n",
      "<stop id=\"stop7\" offset=\"0\" stop-color=\"#e2964f\"></stop>\n",
      "<stop id=\"stop9\" offset=\"1\" stop-color=\"#e2964f\" stop-opacity=\"0\"></stop>\n",
      "</lineargradient>\n",
      "</defs>\n",
      "<metadata id=\"metadata14\">\n",
      "<rdf:rdf>\n",
      "<cc:work rdf:about=\"\">\n",
      "<dc:format>image/svg+xml</dc:format>\n",
      "<dc:type rdf:resource=\"http://purl.org/dc/dcmitype/StillImage\"></dc:type>\n",
      "<dc:title></dc:title>\n",
      "</cc:work>\n",
      "</rdf:rdf>\n",
      "</metadata>\n",
      "<g id=\"g3816\" inkscape:export-filename=\"/Users/privera/Documents/celerity/bd/atl/pyatl/logo/pyatl-logo-optimized-big.png\" inkscape:export-xdpi=\"300\" inkscape:export-ydpi=\"300\" transform=\"matrix(2.2396355,0,0,2.2396355,55.773507,10.09569)\">\n",
      "<g id=\"g48\" transform=\"matrix(0.04854808,0,0,0.04958561,-6.5334129,-21.94313)\">\n",
      "<g id=\"g32\" transform=\"matrix(0.65671,0,0,0.65671,-382.05,366.05)\">\n",
      "<path d=\"M 60.51,6.398 C 55.9263,6.419298 51.5491,6.81022 47.698,7.4918 36.352,9.4963 34.292,13.6919 34.292,21.4298 v 10.219 H 61.104 V 35.055 H 24.229 c -7.7925,0 -14.616,4.6837 -16.75,13.594 -2.4618,10.213 -2.571,16.586 0,27.25 1.9059,7.9379 6.4575,13.594 14.25,13.594 h 9.2188 v -12.25 c 0,-8.8499 7.6571,-16.656 16.75,-16.656 h 26.781 c 7.455,0 13.406,-6.1382 13.406,-13.625 V 21.431 c 0,-7.2663 -6.13,-12.725 -13.406,-13.938 -4.606,-0.76673 -9.3851,-1.115 -13.969,-1.0938 z m -14.5,8.2188 c 2.7695,0 5.0312,2.2986 5.0312,5.125 -2e-6,2.8163 -2.2617,5.0938 -5.0312,5.0938 -2.7795,-1e-6 -5.0312,-2.2774 -5.0312,-5.0938 -10e-7,-2.8264 2.2518,-5.125 5.0312,-5.125 z\" id=\"path22\" inkscape:connector-curvature=\"0\" style=\"fill:#e2964f\"></path>\n",
      "<path d=\"M 91.229,35.054 V 46.96 c 0,9.2308 -7.8259,17 -16.75,17 H 47.698 c -7.3358,0 -13.406,6.2785 -13.406,13.625 v 25.531 c 0,7.2663 6.3186,11.54 13.406,13.625 8.4873,2.4956 16.626,2.9466 26.781,0 6.7502,-1.9544 13.406,-5.8876 13.406,-13.625 V 92.897 H 61.104 v -3.4062 h 40.188 c 7.7925,0 10.696,-5.4354 13.406,-13.594 2.7993,-8.3989 2.6802,-16.476 0,-27.25 -1.9258,-7.7574 -5.6039,-13.594 -13.406,-13.594 z M 76.167,99.71 c 2.7795,3e-6 5.0312,2.2774 5.0312,5.0937 -2e-6,2.8264 -2.2518,5.125 -5.0312,5.125 -2.7696,0 -5.0312,-2.2986 -5.0312,-5.125 2e-6,-2.8163 2.2617,-5.0937 5.0312,-5.0937 z\" id=\"path24\" inkscape:connector-curvature=\"0\" style=\"fill:#eb6e64\"></path>\n",
      "<path d=\"M 60.51,6.398 C 55.9263,6.419298 51.5491,6.81022 47.698,7.4918 36.352,9.4963 34.292,13.6919 34.292,21.4298 v 10.219 H 61.104 V 35.055 H 24.229 c -7.7925,0 -14.616,4.6837 -16.75,13.594 -2.4618,10.213 -2.571,16.586 0,27.25 1.9059,7.9379 6.4575,13.594 14.25,13.594 h 9.2188 v -12.25 c 0,-8.8499 7.6571,-16.656 16.75,-16.656 h 26.781 c 7.455,0 13.406,-6.1382 13.406,-13.625 V 21.431 c 0,-7.2663 -6.13,-12.725 -13.406,-13.938 -4.606,-0.76673 -9.3851,-1.115 -13.969,-1.0938 z m -14.5,8.2188 c 2.7695,0 5.0312,2.2986 5.0312,5.125 -2e-6,2.8163 -2.2617,5.0938 -5.0312,5.0938 -2.7795,-1e-6 -5.0312,-2.2774 -5.0312,-5.0938 -10e-7,-2.8264 2.2518,-5.125 5.0312,-5.125 z\" id=\"path26\" inkscape:connector-curvature=\"0\" style=\"fill:#e2964f\"></path>\n",
      "<path d=\"M 60.51,6.398 C 55.9263,6.419298 51.5491,6.81022 47.698,7.4918 36.352,9.4963 34.292,13.6919 34.292,21.4298 v 10.219 H 61.104 V 35.055 H 24.229 c -7.7925,0 -14.616,4.6837 -16.75,13.594 -2.4618,10.213 -2.571,16.586 0,27.25 1.9059,7.9379 6.4575,13.594 14.25,13.594 h 9.2188 v -12.25 c 0,-8.8499 7.6571,-16.656 16.75,-16.656 h 26.781 c 7.455,0 13.406,-6.1382 13.406,-13.625 V 21.431 c 0,-7.2663 -6.13,-12.725 -13.406,-13.938 -4.606,-0.76673 -9.3851,-1.115 -13.969,-1.0938 z m -14.5,8.2188 c 2.7695,0 5.0312,2.2986 5.0312,5.125 -2e-6,2.8163 -2.2617,5.0938 -5.0312,5.0938 -2.7795,-1e-6 -5.0312,-2.2774 -5.0312,-5.0938 -10e-7,-2.8264 2.2518,-5.125 5.0312,-5.125 z\" id=\"path28\" inkscape:connector-curvature=\"0\" style=\"fill:url(#linearGradient2249-4)\"></path>\n",
      "<path d=\"M 91.229,35.054 V 46.96 c 0,9.2308 -7.8259,17 -16.75,17 H 47.698 c -7.3358,0 -13.406,6.2785 -13.406,13.625 v 25.531 c 0,7.2663 6.3186,11.54 13.406,13.625 8.4873,2.4956 16.626,2.9466 26.781,0 6.7502,-1.9544 13.406,-5.8876 13.406,-13.625 V 92.897 H 61.104 v -3.4062 h 40.188 c 7.7925,0 10.696,-5.4354 13.406,-13.594 2.7993,-8.3989 2.6802,-16.476 0,-27.25 -1.9258,-7.7574 -5.6039,-13.594 -13.406,-13.594 z M 76.167,99.71 c 2.7795,3e-6 5.0312,2.2774 5.0312,5.0937 -2e-6,2.8264 -2.2518,5.125 -5.0312,5.125 -2.7696,0 -5.0312,-2.2986 -5.0312,-5.125 2e-6,-2.8163 2.2617,-5.0937 5.0312,-5.0937 z\" id=\"path30\" inkscape:connector-curvature=\"0\" style=\"fill:url(#linearGradient2251-3)\"></path>\n",
      "</g>\n",
      "<g id=\"g46\" transform=\"translate(1.4376,-1.4376)\">\n",
      "<g id=\"g38\" transform=\"matrix(-1.8546,0,0,1.8546,-881.58,254.26)\">\n",
      "<g id=\"g36\" transform=\"matrix(0.36809,0,0,0.36809,-173.78,-69.414)\">\n",
      "<path d=\"m -331.27,341.23 c -1.079,0.0747 -1.4361,0.57053 -1.3577,1.8848 0.10253,1.7183 1.2796,3.491 3.8147,5.745 1.8368,1.6332 11.812,9.4307 11.995,9.376 0.25777,-0.0773 -0.91183,-3.5853 -1.7079,-5.1224 -2.173,-4.1958 -6.1138,-8.496 -9.8635,-10.763 -1.7216,-1.041 -2.0695,-1.1764 -2.8806,-1.1201 z\" id=\"path34\" inkscape:connector-curvature=\"0\" style=\"fill:#94d272\"></path>\n",
      "</g>\n",
      "</g>\n",
      "<g id=\"g44\" transform=\"matrix(2.7167,0,0,2.7167,445.9,200.42)\">\n",
      "<g id=\"g42\" transform=\"matrix(0.36809,0,0,0.36809,-173.78,-69.414)\">\n",
      "<path d=\"m -331.27,341.23 c -1.079,0.0747 -1.4361,0.57053 -1.3577,1.8848 0.10253,1.7183 1.2796,3.491 3.8147,5.745 1.8368,1.6332 11.812,9.4307 11.995,9.376 0.25777,-0.0773 -0.91183,-3.5853 -1.7079,-5.1224 -2.173,-4.1958 -6.1138,-8.496 -9.8635,-10.763 -1.7216,-1.041 -2.0695,-1.1764 -2.8806,-1.1201 z\" id=\"path40\" inkscape:connector-curvature=\"0\" style=\"fill:#94d272\"></path>\n",
      "</g>\n",
      "</g>\n",
      "</g>\n",
      "</g>\n",
      "</g>\n",
      "</svg>\n",
      "</a>, <a class=\"nav-link\" href=\"/events/\">Events</a>, <a class=\"nav-link\" href=\"https://discord.gg/5UBnR3P\" title=\"Twitter\">Discord</a>, <a class=\"nav-link\" href=\"https://twitter.com/pyatl\" title=\"Twitter\">Twitter</a>, <a class=\"nav-link\" href=\"https://www.meetup.com/python-atlanta/\" title=\"Meetup\">Meetup.com</a>, <a href=\"https://python.org\">Python</a>, <a href=\"/events/location/pyatl-discord-server/1/\">PyAtl Discord Server</a>, <a class=\"btn btn-sm btn-outline-primary\" href=\"/events/2020-04-09/python-atlanta-meetup-04092020/3/\" type=\"button\">Learn More</a>]\n",
      "https://discord.gg/5UBnR3P\n",
      "https://twitter.com/pyatl\n",
      "https://www.meetup.com/python-atlanta/\n",
      "https://python.org\n"
     ]
    }
   ],
   "source": [
    "from selenium import webdriver\n",
    "from bs4 import BeautifulSoup\n",
    "import time\n",
    "import re\n",
    "\n",
    "\n",
    "link_list = []\n",
    "secondary_pages = []\n",
    "tag_list = []\n",
    "\n",
    "\n",
    "\n",
    "session = webdriver.Chrome(r\"C:\\Users\\i_miz\\Downloads\\chromedriver_win32\\chromedriver.exe\")\n",
    "\n",
    "session.get('https://pyatl.dev')\n",
    "time.sleep(3)\n",
    "bs = BeautifulSoup(session.page_source, 'lxml')\n",
    "print(bs.find_all('a'))\n",
    "for i in bs.find_all('a', attrs={'href': re.compile(\"^https://\")}):\n",
    "    print (i.get('href'))\n",
    "    link_list.append(i.get('href'))\n",
    "session.close()"
   ]
  }
 ],
 "metadata": {
  "kernelspec": {
   "display_name": "Python 3",
   "language": "python",
   "name": "python3"
  },
  "language_info": {
   "codemirror_mode": {
    "name": "ipython",
    "version": 3
   },
   "file_extension": ".py",
   "mimetype": "text/x-python",
   "name": "python",
   "nbconvert_exporter": "python",
   "pygments_lexer": "ipython3",
   "version": "3.8.1"
  }
 },
 "nbformat": 4,
 "nbformat_minor": 4
}